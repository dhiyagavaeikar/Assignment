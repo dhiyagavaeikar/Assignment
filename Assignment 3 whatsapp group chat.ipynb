{
 "cells": [
  {
   "cell_type": "code",
   "execution_count": 1,
   "id": "970dcdc3",
   "metadata": {},
   "outputs": [
    {
     "name": "stdout",
     "output_type": "stream",
     "text": [
      "Requirement already satisfied: emoji in c:\\users\\hp\\anaconda3\\lib\\site-packages (1.6.3)\n",
      "Note: you may need to restart the kernel to use updated packages.\n"
     ]
    }
   ],
   "source": [
    "pip install emoji"
   ]
  },
  {
   "cell_type": "code",
   "execution_count": 1,
   "id": "6b037834",
   "metadata": {},
   "outputs": [
    {
     "name": "stderr",
     "output_type": "stream",
     "text": [
      "[nltk_data] Downloading package vader_lexicon to\n",
      "[nltk_data]     C:\\Users\\hp\\AppData\\Roaming\\nltk_data...\n",
      "[nltk_data]   Package vader_lexicon is already up-to-date!\n"
     ]
    }
   ],
   "source": [
    "import pandas as pd\n",
    "from tqdm.notebook import tqdm_notebook\n",
    "from dateutil import parser\n",
    "import seaborn as sns\n",
    "import matplotlib.pyplot as plt\n",
    "import datetime\n",
    "import numpy as np\n",
    "#from profanity_check import predict, predict_prob\n",
    "import warnings\n",
    "import nltk\n",
    "from nltk.sentiment.vader import SentimentIntensityAnalyzer\n",
    "nltk.download('vader_lexicon')\n",
    "#from textblob import TextBlob\n",
    "import emoji\n",
    "import itertools \n",
    "import matplotlib.style as style\n",
    "#from google.colab import files\n",
    "style.use('ggplot')\n",
    "warnings.filterwarnings('ignore')"
   ]
  },
  {
   "cell_type": "markdown",
   "id": "66626cfa",
   "metadata": {},
   "source": [
    "### converting text file to csv file"
   ]
  },
  {
   "cell_type": "code",
   "execution_count": 2,
   "id": "d666766f",
   "metadata": {},
   "outputs": [],
   "source": [
    "def valid_user(str):\n",
    "    if len(str.split(' ')) < 5 and not 'left' in str and not 'added' in str and not 'removed' in str:\n",
    "        return True\n",
    "    elif '+91' in str and len(str.split(' ')) <= 3:\n",
    "        return True\n",
    "    return False"
   ]
  },
  {
   "cell_type": "code",
   "execution_count": 3,
   "id": "b0f0e6bd",
   "metadata": {},
   "outputs": [
    {
     "data": {
      "application/vnd.jupyter.widget-view+json": {
       "model_id": "98b76aa4bab0446ba026dd09d5deba74",
       "version_major": 2,
       "version_minor": 0
      },
      "text/plain": [
       "  0%|          | 0/80 [00:00<?, ?line/s]"
      ]
     },
     "metadata": {},
     "output_type": "display_data"
    },
    {
     "name": "stdout",
     "output_type": "stream",
     "text": [
      "(76, 8)\n"
     ]
    }
   ],
   "source": [
    "def vali_date(text):\n",
    "    try:\n",
    "        datetime.datetime.strptime(text, '%m/%d/%y')\n",
    "        return True\n",
    "    except Exception as e:\n",
    "        return False\n",
    "\n",
    "lines = []\n",
    "with open(r'C:\\\\Users\\\\hp\\\\Downloads\\\\WhatsApp Chat with Crisp .txt',encoding=\"utf8\") as f:\n",
    "    for line in f:\n",
    "        if vali_date(line.split(',')[0]):\n",
    "             lines.append(line.strip('\\n'))\n",
    "        else:\n",
    "             lines[len(lines) - 1] += ' ' + line.strip('\\n')\n",
    "  \n",
    "datetimes, names, msgs = ([] for i in range(3))\n",
    "for line in tqdm_notebook(lines, total = len(lines), unit = 'line'):\n",
    "    datetimes.append(datetime.datetime.strptime(line.split('-')[0], '%m/%d/%y, %I:%M %p '))\n",
    "    names.append(line.split('-')[1].split(':')[0].strip())\n",
    "    msgs.append(''.join(line.split('-')[1].split(':')[1:]))\n",
    "\n",
    "df = pd.DataFrame()\n",
    "df['datetime'] = datetimes\n",
    "df['name'] = names\n",
    "df['msg'] = msgs\n",
    "\n",
    "'''\n",
    "The file  had lines for when the group names were changed, and when people left or were removed. \n",
    "I will remove these since they are of no use. One more friend changed his number, and to include that, \n",
    "I had to do a little bit more filtering. \n",
    "'''\n",
    "\n",
    "def valid_user(str):\n",
    "    if len(str.split(' ')) < 5 and not 'left' in str and not 'added' in str and not 'removed' in str and not 'admin' in str:\n",
    "        return True\n",
    "    elif '+91' in str and len(str.split(' ')) <= 3:\n",
    "        return True\n",
    "    return False\n",
    "\n",
    "\n",
    "df = df[df['name'].apply(valid_user)]\n",
    "df.loc[(df.name == '<redacted>'), 'name'] = 'MM' \n",
    "df.loc[(df.name == '<redacted>'), 'name'] = 'MM' \n",
    "df.loc[(df.name == '<redacted>'), 'name'] = 'SD' \n",
    "df.loc[(df.name == '<redacted>'), 'name'] = 'BA'\n",
    "df.loc[(df.name == '<redacted>'), 'name'] = 'RF'\n",
    "df.loc[(df.name == '<redacted>'), 'name'] = 'SJ'\n",
    "df.loc[(df.name == '<redacted>'), 'name'] = 'GJ'\n",
    "df.loc[(df.name == '<redacted>'), 'name'] = 'BD'\n",
    "df.loc[(df.name == '<redacted>'), 'name'] = 'SM'\n",
    "df = df[df['name'] != '<redacted>']\n",
    "df['name'].unique()\n",
    "\n",
    "df['date'] = df['datetime'].apply(lambda x: x.date())\n",
    "df['day_sent'] = df['datetime'].dt.strftime('%a')\n",
    "df['month_sent'] = df['datetime'].dt.strftime('%b')\n",
    "df['year_sent'] = df['datetime'].dt.year\n",
    "df['count'] = 1 # To groupby days and have a count of how many messages were sent per day\n",
    "df = df[~df['msg'].apply(lambda x: True if '\\xa0' in x else False)] # To remove characters with '\\xa0'\n",
    "print(df.shape)"
   ]
  },
  {
   "cell_type": "code",
   "execution_count": 4,
   "id": "ecc9636c",
   "metadata": {},
   "outputs": [
    {
     "data": {
      "application/vnd.jupyter.widget-view+json": {
       "model_id": "41ba08f7be9c42d086537e101834b275",
       "version_major": 2,
       "version_minor": 0
      },
      "text/plain": [
       "  0%|          | 0/161 [00:00<?, ?line/s]"
      ]
     },
     "metadata": {},
     "output_type": "display_data"
    },
    {
     "name": "stdout",
     "output_type": "stream",
     "text": [
      "(155, 8)\n",
      "(224, 8)\n"
     ]
    },
    {
     "data": {
      "text/html": [
       "<div>\n",
       "<style scoped>\n",
       "    .dataframe tbody tr th:only-of-type {\n",
       "        vertical-align: middle;\n",
       "    }\n",
       "\n",
       "    .dataframe tbody tr th {\n",
       "        vertical-align: top;\n",
       "    }\n",
       "\n",
       "    .dataframe thead th {\n",
       "        text-align: right;\n",
       "    }\n",
       "</style>\n",
       "<table border=\"1\" class=\"dataframe\">\n",
       "  <thead>\n",
       "    <tr style=\"text-align: right;\">\n",
       "      <th></th>\n",
       "      <th>datetime</th>\n",
       "      <th>name</th>\n",
       "      <th>msg</th>\n",
       "      <th>date</th>\n",
       "      <th>day_sent</th>\n",
       "      <th>month_sent</th>\n",
       "      <th>year_sent</th>\n",
       "      <th>count</th>\n",
       "    </tr>\n",
       "  </thead>\n",
       "  <tbody>\n",
       "    <tr>\n",
       "      <th>0</th>\n",
       "      <td>2021-07-12 19:56:00</td>\n",
       "      <td>Riya Crisp Python Bhopal</td>\n",
       "      <td>Mam it's not possible for me to come tomorrow</td>\n",
       "      <td>2021-07-12</td>\n",
       "      <td>Mon</td>\n",
       "      <td>Jul</td>\n",
       "      <td>2021</td>\n",
       "      <td>1</td>\n",
       "    </tr>\n",
       "    <tr>\n",
       "      <th>1</th>\n",
       "      <td>2021-07-12 20:22:00</td>\n",
       "      <td>Ritu Maam Crisp. Python</td>\n",
       "      <td>Ok</td>\n",
       "      <td>2021-07-12</td>\n",
       "      <td>Mon</td>\n",
       "      <td>Jul</td>\n",
       "      <td>2021</td>\n",
       "      <td>1</td>\n",
       "    </tr>\n",
       "    <tr>\n",
       "      <th>2</th>\n",
       "      <td>2021-07-12 20:32:00</td>\n",
       "      <td>mnazish19</td>\n",
       "      <td>Maam. i'll also Not come.</td>\n",
       "      <td>2021-07-12</td>\n",
       "      <td>Mon</td>\n",
       "      <td>Jul</td>\n",
       "      <td>2021</td>\n",
       "      <td>1</td>\n",
       "    </tr>\n",
       "    <tr>\n",
       "      <th>3</th>\n",
       "      <td>2021-07-12 20:32:00</td>\n",
       "      <td>Ritu Maam Crisp. Python</td>\n",
       "      <td>Ok</td>\n",
       "      <td>2021-07-12</td>\n",
       "      <td>Mon</td>\n",
       "      <td>Jul</td>\n",
       "      <td>2021</td>\n",
       "      <td>1</td>\n",
       "    </tr>\n",
       "    <tr>\n",
       "      <th>4</th>\n",
       "      <td>2021-09-12 23:56:00</td>\n",
       "      <td>Ritu Maam Crisp. Python</td>\n",
       "      <td>&lt;Media omitted&gt;</td>\n",
       "      <td>2021-09-12</td>\n",
       "      <td>Sun</td>\n",
       "      <td>Sep</td>\n",
       "      <td>2021</td>\n",
       "      <td>1</td>\n",
       "    </tr>\n",
       "  </tbody>\n",
       "</table>\n",
       "</div>"
      ],
      "text/plain": [
       "             datetime                      name  \\\n",
       "0 2021-07-12 19:56:00  Riya Crisp Python Bhopal   \n",
       "1 2021-07-12 20:22:00   Ritu Maam Crisp. Python   \n",
       "2 2021-07-12 20:32:00                 mnazish19   \n",
       "3 2021-07-12 20:32:00   Ritu Maam Crisp. Python   \n",
       "4 2021-09-12 23:56:00   Ritu Maam Crisp. Python   \n",
       "\n",
       "                                              msg        date day_sent  \\\n",
       "0   Mam it's not possible for me to come tomorrow  2021-07-12      Mon   \n",
       "1                                              Ok  2021-07-12      Mon   \n",
       "2                       Maam. i'll also Not come.  2021-07-12      Mon   \n",
       "3                                              Ok  2021-07-12      Mon   \n",
       "4                                 <Media omitted>  2021-09-12      Sun   \n",
       "\n",
       "  month_sent  year_sent  count  \n",
       "0        Jul       2021      1  \n",
       "1        Jul       2021      1  \n",
       "2        Jul       2021      1  \n",
       "3        Jul       2021      1  \n",
       "4        Sep       2021      1  "
      ]
     },
     "execution_count": 4,
     "metadata": {},
     "output_type": "execute_result"
    }
   ],
   "source": [
    "def vali_date(text):\n",
    "    try:\n",
    "        datetime.datetime.strptime(text, '%d/%m/%y')\n",
    "        return True\n",
    "    except Exception as e:\n",
    "        return False\n",
    "\n",
    "lines = []\n",
    "with open('C:\\\\Users\\\\hp\\\\Downloads\\\\WhatsApp Chat with Crisp .txt',encoding=\"utf8\") as f:\n",
    "    for line in f:\n",
    "        if vali_date(line.split(',')[0]):\n",
    "            lines.append(line.strip('\\n'))\n",
    "        else:\n",
    "            lines[len(lines) - 1] += ' ' + line.strip('\\n')\n",
    "  \n",
    "datetimes, names, msgs = ([] for i in range(3))\n",
    "for line in tqdm_notebook(lines, total = len(lines), unit = 'line'):\n",
    "    datetimes.append(datetime.datetime.strptime(line.split('-')[0], '%d/%m/%y, %I:%M %p '))\n",
    "    names.append(line.split('-')[1].split(':')[0].strip())\n",
    "    msgs.append(''.join(line.split('-')[1].split(':')[1:]))\n",
    "\n",
    "df2 = pd.DataFrame()\n",
    "df2['datetime'] = datetimes\n",
    "df2['name'] = names\n",
    "df2['msg'] = msgs\n",
    "\n",
    "\n",
    "df2 = df2[df2['name'].apply(valid_user)]\n",
    "df2.loc[(df2.name == '<redacted>'), 'name'] = 'MM' \n",
    "df2.loc[(df2.name == '<redacted>'), 'name'] = 'SD' \n",
    "df2.loc[(df2.name == '<redacted>'), 'name'] = 'BA'\n",
    "df2.loc[(df2.name == '<redacted>'), 'name'] = 'RF'\n",
    "df2.loc[(df2.name == '<redacted>'), 'name'] = 'SJ'\n",
    "df2.loc[(df2.name == '<redacted>'), 'name'] = 'GJ'\n",
    "df2.loc[(df2.name == '<redacted>'), 'name'] = 'BD'\n",
    "df2.loc[(df2.name == '<redacted>'), 'name'] = 'SM'\n",
    "df2 = df2[df2['name'] != '<redacted>']\n",
    "df2['name'].unique()\n",
    "\n",
    "df2['day_sent'] = df2['datetime'].dt.strftime('%a')\n",
    "df2['month_sent'] = df2['datetime'].dt.strftime('%b')\n",
    "df2['year_sent'] = df2['datetime'].dt.year\n",
    "df2['date'] = df2['datetime'].apply(lambda x: x.date())\n",
    "df2['count'] = 1 # To groupby days and have a count of how many messages were sent per day\n",
    "df2 = df2[~df2['msg'].apply(lambda x: True if '\\xa0' in x else False)] # To remove characters with '\\xa0'\n",
    "print(df2.shape)\n",
    "\n",
    "df = pd.concat([df, df2]).drop_duplicates().reset_index(drop = True)\n",
    "df = df.sort_values(by = 'datetime')\n",
    "print(df.shape)\n",
    "df.head()"
   ]
  },
  {
   "cell_type": "code",
   "execution_count": 5,
   "id": "27a32edb",
   "metadata": {},
   "outputs": [
    {
     "data": {
      "text/html": [
       "<div>\n",
       "<style scoped>\n",
       "    .dataframe tbody tr th:only-of-type {\n",
       "        vertical-align: middle;\n",
       "    }\n",
       "\n",
       "    .dataframe tbody tr th {\n",
       "        vertical-align: top;\n",
       "    }\n",
       "\n",
       "    .dataframe thead th {\n",
       "        text-align: right;\n",
       "    }\n",
       "</style>\n",
       "<table border=\"1\" class=\"dataframe\">\n",
       "  <thead>\n",
       "    <tr style=\"text-align: right;\">\n",
       "      <th></th>\n",
       "      <th>datetime</th>\n",
       "      <th>name</th>\n",
       "      <th>msg</th>\n",
       "      <th>date</th>\n",
       "      <th>day_sent</th>\n",
       "      <th>month_sent</th>\n",
       "      <th>year_sent</th>\n",
       "      <th>count</th>\n",
       "    </tr>\n",
       "  </thead>\n",
       "  <tbody>\n",
       "    <tr>\n",
       "      <th>24</th>\n",
       "      <td>2022-12-01 18:56:00</td>\n",
       "      <td>Cirsp Student Python</td>\n",
       "      <td>Plz resend the Maths classes links</td>\n",
       "      <td>2022-12-01</td>\n",
       "      <td>Thu</td>\n",
       "      <td>Dec</td>\n",
       "      <td>2022</td>\n",
       "      <td>1</td>\n",
       "    </tr>\n",
       "    <tr>\n",
       "      <th>28</th>\n",
       "      <td>2022-12-01 19:00:00</td>\n",
       "      <td>mnazish19</td>\n",
       "      <td>&lt;Media omitted&gt; 14/01/22, 1231 pm</td>\n",
       "      <td>2022-12-01</td>\n",
       "      <td>Thu</td>\n",
       "      <td>Dec</td>\n",
       "      <td>2022</td>\n",
       "      <td>1</td>\n",
       "    </tr>\n",
       "    <tr>\n",
       "      <th>27</th>\n",
       "      <td>2022-12-01 19:00:00</td>\n",
       "      <td>mnazish19</td>\n",
       "      <td>https//www.w3schools.com/python/numpy/numpy_r...</td>\n",
       "      <td>2022-12-01</td>\n",
       "      <td>Thu</td>\n",
       "      <td>Dec</td>\n",
       "      <td>2022</td>\n",
       "      <td>1</td>\n",
       "    </tr>\n",
       "    <tr>\n",
       "      <th>26</th>\n",
       "      <td>2022-12-01 19:00:00</td>\n",
       "      <td>mnazish19</td>\n",
       "      <td>https//www.geeksforgeeks.org/python</td>\n",
       "      <td>2022-12-01</td>\n",
       "      <td>Thu</td>\n",
       "      <td>Dec</td>\n",
       "      <td>2022</td>\n",
       "      <td>1</td>\n",
       "    </tr>\n",
       "    <tr>\n",
       "      <th>25</th>\n",
       "      <td>2022-12-01 19:00:00</td>\n",
       "      <td>mnazish19</td>\n",
       "      <td>meet.google.com/pzf</td>\n",
       "      <td>2022-12-01</td>\n",
       "      <td>Thu</td>\n",
       "      <td>Dec</td>\n",
       "      <td>2022</td>\n",
       "      <td>1</td>\n",
       "    </tr>\n",
       "  </tbody>\n",
       "</table>\n",
       "</div>"
      ],
      "text/plain": [
       "              datetime                  name  \\\n",
       "24 2022-12-01 18:56:00  Cirsp Student Python   \n",
       "28 2022-12-01 19:00:00             mnazish19   \n",
       "27 2022-12-01 19:00:00             mnazish19   \n",
       "26 2022-12-01 19:00:00             mnazish19   \n",
       "25 2022-12-01 19:00:00             mnazish19   \n",
       "\n",
       "                                                  msg        date day_sent  \\\n",
       "24                 Plz resend the Maths classes links  2022-12-01      Thu   \n",
       "28                 <Media omitted> 14/01/22, 1231 pm   2022-12-01      Thu   \n",
       "27   https//www.w3schools.com/python/numpy/numpy_r...  2022-12-01      Thu   \n",
       "26                https//www.geeksforgeeks.org/python  2022-12-01      Thu   \n",
       "25                                meet.google.com/pzf  2022-12-01      Thu   \n",
       "\n",
       "   month_sent  year_sent  count  \n",
       "24        Dec       2022      1  \n",
       "28        Dec       2022      1  \n",
       "27        Dec       2022      1  \n",
       "26        Dec       2022      1  \n",
       "25        Dec       2022      1  "
      ]
     },
     "execution_count": 5,
     "metadata": {},
     "output_type": "execute_result"
    }
   ],
   "source": [
    "df.tail()"
   ]
  },
  {
   "cell_type": "code",
   "execution_count": 6,
   "id": "5bc53206",
   "metadata": {},
   "outputs": [],
   "source": [
    "import re\n",
    "import pandas as pd\n",
    "import numpy as np\n",
    "import matplotlib.pyplot as plt\n",
    "import seaborn as sns\n",
    "from datetime import *\n",
    "import datetime as dt\n",
    "from matplotlib.ticker import MaxNLocator\n",
    "import regex\n",
    "import emoji\n",
    "from seaborn import *\n",
    "#from heatmap import heatmap\n",
    "#from wordcloud import WordCloud , STOPWORDS , ImageColorGenerator\n",
    "from nltk import *\n",
    "#from plotly import express as px"
   ]
  },
  {
   "cell_type": "code",
   "execution_count": 7,
   "id": "b81d0d18",
   "metadata": {},
   "outputs": [
    {
     "data": {
      "text/plain": [
       "(224, 8)"
      ]
     },
     "execution_count": 7,
     "metadata": {},
     "output_type": "execute_result"
    }
   ],
   "source": [
    "df.shape"
   ]
  },
  {
   "cell_type": "code",
   "execution_count": 8,
   "id": "7589a2f3",
   "metadata": {},
   "outputs": [
    {
     "name": "stdout",
     "output_type": "stream",
     "text": [
      "<class 'pandas.core.frame.DataFrame'>\n",
      "Int64Index: 224 entries, 0 to 25\n",
      "Data columns (total 8 columns):\n",
      " #   Column      Non-Null Count  Dtype         \n",
      "---  ------      --------------  -----         \n",
      " 0   datetime    224 non-null    datetime64[ns]\n",
      " 1   name        224 non-null    object        \n",
      " 2   msg         224 non-null    object        \n",
      " 3   date        224 non-null    object        \n",
      " 4   day_sent    224 non-null    object        \n",
      " 5   month_sent  224 non-null    object        \n",
      " 6   year_sent   224 non-null    int64         \n",
      " 7   count       224 non-null    int64         \n",
      "dtypes: datetime64[ns](1), int64(2), object(5)\n",
      "memory usage: 15.8+ KB\n"
     ]
    }
   ],
   "source": [
    "df.info()"
   ]
  },
  {
   "cell_type": "code",
   "execution_count": 9,
   "id": "3e759705",
   "metadata": {},
   "outputs": [
    {
     "data": {
      "text/plain": [
       "datetime      0\n",
       "name          0\n",
       "msg           0\n",
       "date          0\n",
       "day_sent      0\n",
       "month_sent    0\n",
       "year_sent     0\n",
       "count         0\n",
       "dtype: int64"
      ]
     },
     "execution_count": 9,
     "metadata": {},
     "output_type": "execute_result"
    }
   ],
   "source": [
    "df.isnull().sum()"
   ]
  },
  {
   "cell_type": "code",
   "execution_count": 10,
   "id": "ca947fd2",
   "metadata": {},
   "outputs": [
    {
     "data": {
      "text/plain": [
       "4"
      ]
     },
     "execution_count": 10,
     "metadata": {},
     "output_type": "execute_result"
    }
   ],
   "source": [
    "#checking no. of names in group\n",
    "df['name'].nunique()"
   ]
  },
  {
   "cell_type": "code",
   "execution_count": 11,
   "id": "3bf513bb",
   "metadata": {},
   "outputs": [
    {
     "data": {
      "text/plain": [
       "array(['Riya Crisp Python Bhopal', 'Ritu Maam Crisp. Python', 'mnazish19',\n",
       "       'Cirsp Student Python'], dtype=object)"
      ]
     },
     "execution_count": 11,
     "metadata": {},
     "output_type": "execute_result"
    }
   ],
   "source": [
    "#checking names in group\n",
    "df['name'].unique()"
   ]
  },
  {
   "cell_type": "code",
   "execution_count": 12,
   "id": "81bf4039",
   "metadata": {},
   "outputs": [
    {
     "data": {
      "text/plain": [
       "0     46\n",
       "1      3\n",
       "2     26\n",
       "3      3\n",
       "4     16\n",
       "      ..\n",
       "24    35\n",
       "28    35\n",
       "27    62\n",
       "26    36\n",
       "25    20\n",
       "Name: Letter's, Length: 224, dtype: int64"
      ]
     },
     "execution_count": 12,
     "metadata": {},
     "output_type": "execute_result"
    }
   ],
   "source": [
    "### Counting number of letters in each message\n",
    "df['Letter\\'s'] = df['msg'].apply(lambda s : len(s))\n",
    "df['Letter\\'s']"
   ]
  },
  {
   "cell_type": "code",
   "execution_count": 13,
   "id": "7434198b",
   "metadata": {},
   "outputs": [
    {
     "data": {
      "text/plain": [
       "0     10\n",
       "1      2\n",
       "2      6\n",
       "3      2\n",
       "4      3\n",
       "      ..\n",
       "24     7\n",
       "28     7\n",
       "27     2\n",
       "26     2\n",
       "25     2\n",
       "Name: Word's, Length: 224, dtype: int64"
      ]
     },
     "execution_count": 13,
     "metadata": {},
     "output_type": "execute_result"
    }
   ],
   "source": [
    "### Counting number of word's in each message\n",
    "df['Word\\'s'] = df['msg'].apply(lambda s : len(s.split(' ')))\n",
    "df['Word\\'s']"
   ]
  },
  {
   "cell_type": "code",
   "execution_count": 14,
   "id": "abd4f2bd",
   "metadata": {},
   "outputs": [
    {
     "data": {
      "text/plain": [
       "35"
      ]
     },
     "execution_count": 14,
     "metadata": {},
     "output_type": "execute_result"
    }
   ],
   "source": [
    "### Function to count number of links in dataset, it will add extra column and store information in it.\n",
    "URLPATTERN = r'(https)'\n",
    "df['Url_Count'] = df.msg.apply(lambda x: re.findall(URLPATTERN, x)).str.len()\n",
    "links = np.sum(df.Url_Count)\n",
    "links "
   ]
  },
  {
   "cell_type": "code",
   "execution_count": 15,
   "id": "ce1c60f0",
   "metadata": {},
   "outputs": [
    {
     "data": {
      "text/plain": [
       "26"
      ]
     },
     "execution_count": 15,
     "metadata": {},
     "output_type": "execute_result"
    }
   ],
   "source": [
    "### Function to count number of media in chat.\n",
    "MEDIAPATTERN = r'<Media omitted>'\n",
    "df['Media_Count'] = df.msg.apply(lambda x : re.findall(MEDIAPATTERN, x)).str.len()\n",
    "media = np.sum(df.Media_Count)\n",
    "media"
   ]
  },
  {
   "cell_type": "code",
   "execution_count": 16,
   "id": "5fad5920",
   "metadata": {
    "scrolled": true
   },
   "outputs": [
    {
     "data": {
      "text/html": [
       "<div>\n",
       "<style scoped>\n",
       "    .dataframe tbody tr th:only-of-type {\n",
       "        vertical-align: middle;\n",
       "    }\n",
       "\n",
       "    .dataframe tbody tr th {\n",
       "        vertical-align: top;\n",
       "    }\n",
       "\n",
       "    .dataframe thead th {\n",
       "        text-align: right;\n",
       "    }\n",
       "</style>\n",
       "<table border=\"1\" class=\"dataframe\">\n",
       "  <thead>\n",
       "    <tr style=\"text-align: right;\">\n",
       "      <th></th>\n",
       "      <th>datetime</th>\n",
       "      <th>name</th>\n",
       "      <th>msg</th>\n",
       "      <th>date</th>\n",
       "      <th>day_sent</th>\n",
       "      <th>month_sent</th>\n",
       "      <th>year_sent</th>\n",
       "      <th>count</th>\n",
       "      <th>Letter's</th>\n",
       "      <th>Word's</th>\n",
       "      <th>Url_Count</th>\n",
       "      <th>Media_Count</th>\n",
       "    </tr>\n",
       "  </thead>\n",
       "  <tbody>\n",
       "    <tr>\n",
       "      <th>0</th>\n",
       "      <td>2021-07-12 19:56:00</td>\n",
       "      <td>Riya Crisp Python Bhopal</td>\n",
       "      <td>Mam it's not possible for me to come tomorrow</td>\n",
       "      <td>2021-07-12</td>\n",
       "      <td>Mon</td>\n",
       "      <td>Jul</td>\n",
       "      <td>2021</td>\n",
       "      <td>1</td>\n",
       "      <td>46</td>\n",
       "      <td>10</td>\n",
       "      <td>0</td>\n",
       "      <td>0</td>\n",
       "    </tr>\n",
       "    <tr>\n",
       "      <th>1</th>\n",
       "      <td>2021-07-12 20:22:00</td>\n",
       "      <td>Ritu Maam Crisp. Python</td>\n",
       "      <td>Ok</td>\n",
       "      <td>2021-07-12</td>\n",
       "      <td>Mon</td>\n",
       "      <td>Jul</td>\n",
       "      <td>2021</td>\n",
       "      <td>1</td>\n",
       "      <td>3</td>\n",
       "      <td>2</td>\n",
       "      <td>0</td>\n",
       "      <td>0</td>\n",
       "    </tr>\n",
       "    <tr>\n",
       "      <th>2</th>\n",
       "      <td>2021-07-12 20:32:00</td>\n",
       "      <td>mnazish19</td>\n",
       "      <td>Maam. i'll also Not come.</td>\n",
       "      <td>2021-07-12</td>\n",
       "      <td>Mon</td>\n",
       "      <td>Jul</td>\n",
       "      <td>2021</td>\n",
       "      <td>1</td>\n",
       "      <td>26</td>\n",
       "      <td>6</td>\n",
       "      <td>0</td>\n",
       "      <td>0</td>\n",
       "    </tr>\n",
       "    <tr>\n",
       "      <th>3</th>\n",
       "      <td>2021-07-12 20:32:00</td>\n",
       "      <td>Ritu Maam Crisp. Python</td>\n",
       "      <td>Ok</td>\n",
       "      <td>2021-07-12</td>\n",
       "      <td>Mon</td>\n",
       "      <td>Jul</td>\n",
       "      <td>2021</td>\n",
       "      <td>1</td>\n",
       "      <td>3</td>\n",
       "      <td>2</td>\n",
       "      <td>0</td>\n",
       "      <td>0</td>\n",
       "    </tr>\n",
       "    <tr>\n",
       "      <th>4</th>\n",
       "      <td>2021-09-12 23:56:00</td>\n",
       "      <td>Ritu Maam Crisp. Python</td>\n",
       "      <td>&lt;Media omitted&gt;</td>\n",
       "      <td>2021-09-12</td>\n",
       "      <td>Sun</td>\n",
       "      <td>Sep</td>\n",
       "      <td>2021</td>\n",
       "      <td>1</td>\n",
       "      <td>16</td>\n",
       "      <td>3</td>\n",
       "      <td>0</td>\n",
       "      <td>1</td>\n",
       "    </tr>\n",
       "    <tr>\n",
       "      <th>...</th>\n",
       "      <td>...</td>\n",
       "      <td>...</td>\n",
       "      <td>...</td>\n",
       "      <td>...</td>\n",
       "      <td>...</td>\n",
       "      <td>...</td>\n",
       "      <td>...</td>\n",
       "      <td>...</td>\n",
       "      <td>...</td>\n",
       "      <td>...</td>\n",
       "      <td>...</td>\n",
       "      <td>...</td>\n",
       "    </tr>\n",
       "    <tr>\n",
       "      <th>24</th>\n",
       "      <td>2022-12-01 18:56:00</td>\n",
       "      <td>Cirsp Student Python</td>\n",
       "      <td>Plz resend the Maths classes links</td>\n",
       "      <td>2022-12-01</td>\n",
       "      <td>Thu</td>\n",
       "      <td>Dec</td>\n",
       "      <td>2022</td>\n",
       "      <td>1</td>\n",
       "      <td>35</td>\n",
       "      <td>7</td>\n",
       "      <td>0</td>\n",
       "      <td>0</td>\n",
       "    </tr>\n",
       "    <tr>\n",
       "      <th>28</th>\n",
       "      <td>2022-12-01 19:00:00</td>\n",
       "      <td>mnazish19</td>\n",
       "      <td>&lt;Media omitted&gt; 14/01/22, 1231 pm</td>\n",
       "      <td>2022-12-01</td>\n",
       "      <td>Thu</td>\n",
       "      <td>Dec</td>\n",
       "      <td>2022</td>\n",
       "      <td>1</td>\n",
       "      <td>35</td>\n",
       "      <td>7</td>\n",
       "      <td>0</td>\n",
       "      <td>1</td>\n",
       "    </tr>\n",
       "    <tr>\n",
       "      <th>27</th>\n",
       "      <td>2022-12-01 19:00:00</td>\n",
       "      <td>mnazish19</td>\n",
       "      <td>https//www.w3schools.com/python/numpy/numpy_r...</td>\n",
       "      <td>2022-12-01</td>\n",
       "      <td>Thu</td>\n",
       "      <td>Dec</td>\n",
       "      <td>2022</td>\n",
       "      <td>1</td>\n",
       "      <td>62</td>\n",
       "      <td>2</td>\n",
       "      <td>1</td>\n",
       "      <td>0</td>\n",
       "    </tr>\n",
       "    <tr>\n",
       "      <th>26</th>\n",
       "      <td>2022-12-01 19:00:00</td>\n",
       "      <td>mnazish19</td>\n",
       "      <td>https//www.geeksforgeeks.org/python</td>\n",
       "      <td>2022-12-01</td>\n",
       "      <td>Thu</td>\n",
       "      <td>Dec</td>\n",
       "      <td>2022</td>\n",
       "      <td>1</td>\n",
       "      <td>36</td>\n",
       "      <td>2</td>\n",
       "      <td>1</td>\n",
       "      <td>0</td>\n",
       "    </tr>\n",
       "    <tr>\n",
       "      <th>25</th>\n",
       "      <td>2022-12-01 19:00:00</td>\n",
       "      <td>mnazish19</td>\n",
       "      <td>meet.google.com/pzf</td>\n",
       "      <td>2022-12-01</td>\n",
       "      <td>Thu</td>\n",
       "      <td>Dec</td>\n",
       "      <td>2022</td>\n",
       "      <td>1</td>\n",
       "      <td>20</td>\n",
       "      <td>2</td>\n",
       "      <td>0</td>\n",
       "      <td>0</td>\n",
       "    </tr>\n",
       "  </tbody>\n",
       "</table>\n",
       "<p>224 rows × 12 columns</p>\n",
       "</div>"
      ],
      "text/plain": [
       "              datetime                      name  \\\n",
       "0  2021-07-12 19:56:00  Riya Crisp Python Bhopal   \n",
       "1  2021-07-12 20:22:00   Ritu Maam Crisp. Python   \n",
       "2  2021-07-12 20:32:00                 mnazish19   \n",
       "3  2021-07-12 20:32:00   Ritu Maam Crisp. Python   \n",
       "4  2021-09-12 23:56:00   Ritu Maam Crisp. Python   \n",
       "..                 ...                       ...   \n",
       "24 2022-12-01 18:56:00      Cirsp Student Python   \n",
       "28 2022-12-01 19:00:00                 mnazish19   \n",
       "27 2022-12-01 19:00:00                 mnazish19   \n",
       "26 2022-12-01 19:00:00                 mnazish19   \n",
       "25 2022-12-01 19:00:00                 mnazish19   \n",
       "\n",
       "                                                  msg        date day_sent  \\\n",
       "0       Mam it's not possible for me to come tomorrow  2021-07-12      Mon   \n",
       "1                                                  Ok  2021-07-12      Mon   \n",
       "2                           Maam. i'll also Not come.  2021-07-12      Mon   \n",
       "3                                                  Ok  2021-07-12      Mon   \n",
       "4                                     <Media omitted>  2021-09-12      Sun   \n",
       "..                                                ...         ...      ...   \n",
       "24                 Plz resend the Maths classes links  2022-12-01      Thu   \n",
       "28                 <Media omitted> 14/01/22, 1231 pm   2022-12-01      Thu   \n",
       "27   https//www.w3schools.com/python/numpy/numpy_r...  2022-12-01      Thu   \n",
       "26                https//www.geeksforgeeks.org/python  2022-12-01      Thu   \n",
       "25                                meet.google.com/pzf  2022-12-01      Thu   \n",
       "\n",
       "   month_sent  year_sent  count  Letter's  Word's  Url_Count  Media_Count  \n",
       "0         Jul       2021      1        46      10          0            0  \n",
       "1         Jul       2021      1         3       2          0            0  \n",
       "2         Jul       2021      1        26       6          0            0  \n",
       "3         Jul       2021      1         3       2          0            0  \n",
       "4         Sep       2021      1        16       3          0            1  \n",
       "..        ...        ...    ...       ...     ...        ...          ...  \n",
       "24        Dec       2022      1        35       7          0            0  \n",
       "28        Dec       2022      1        35       7          0            1  \n",
       "27        Dec       2022      1        62       2          1            0  \n",
       "26        Dec       2022      1        36       2          1            0  \n",
       "25        Dec       2022      1        20       2          0            0  \n",
       "\n",
       "[224 rows x 12 columns]"
      ]
     },
     "execution_count": 16,
     "metadata": {},
     "output_type": "execute_result"
    }
   ],
   "source": [
    "### Looking updated dataset\n",
    "df"
   ]
  },
  {
   "cell_type": "markdown",
   "id": "1e4a18dd",
   "metadata": {},
   "source": [
    "### Extracting basic statistics from the dataset : "
   ]
  },
  {
   "cell_type": "code",
   "execution_count": 17,
   "id": "531b1ffa",
   "metadata": {},
   "outputs": [
    {
     "name": "stdout",
     "output_type": "stream",
     "text": [
      "Group Chatting Stats : \n",
      "Total Number of Messages : 224\n",
      "Total Number of Media Messages : 26\n",
      "Total Number of Links : 35\n"
     ]
    }
   ],
   "source": [
    "total_messages = df.shape[0]\n",
    "media_messages = media\n",
    "links = np.sum(df.Url_Count)\n",
    "print('Group Chatting Stats : ')\n",
    "print('Total Number of Messages : {}'.format(total_messages))\n",
    "print('Total Number of Media Messages : {}'.format(media_messages))\n",
    "print('Total Number of Links : {}'.format(links))"
   ]
  },
  {
   "cell_type": "markdown",
   "id": "df338b1c",
   "metadata": {},
   "source": [
    "### Let’s print the total no. of messages sent by each user : "
   ]
  },
  {
   "cell_type": "code",
   "execution_count": 18,
   "id": "dbf44ef6",
   "metadata": {},
   "outputs": [
    {
     "name": "stdout",
     "output_type": "stream",
     "text": [
      "Riya Crisp Python Bhopal   ->   22\n",
      "Ritu Maam Crisp. Python   ->   149\n",
      "mnazish19   ->   41\n",
      "Cirsp Student Python   ->   12\n"
     ]
    }
   ],
   "source": [
    "### Creates a list of unique Authors\n",
    "l = df.name.unique()\n",
    "for i in range(len(l)):\n",
    "  ### Filtering out messages of particular user\n",
    "  req_df = df[df[\"name\"] == l[i]]\n",
    "  ### req_df will contain messages of only one particular user\n",
    "  print(l[i],'  ->  ',req_df.shape[0])"
   ]
  },
  {
   "cell_type": "markdown",
   "id": "d727b8f1",
   "metadata": {},
   "source": [
    "### Let’s print total messages sent on each day of the week :"
   ]
  },
  {
   "cell_type": "code",
   "execution_count": 19,
   "id": "b6506a7e",
   "metadata": {},
   "outputs": [
    {
     "name": "stdout",
     "output_type": "stream",
     "text": [
      "Mon   ->   50\n",
      "Sun   ->   20\n",
      "Tue   ->   36\n",
      "Thu   ->   39\n",
      "Fri   ->   37\n",
      "Wed   ->   17\n",
      "Sat   ->   25\n"
     ]
    }
   ],
   "source": [
    "l = df.day_sent.unique()\n",
    "for i in range(len(l)):\n",
    "  ### Filtering out messages of particular user\n",
    "  req_df = df[df[\"day_sent\"] == l[i]]\n",
    "  ### req_df will contain messages of only one particular user\n",
    "  print(l[i],'  ->  ',req_df.shape[0])"
   ]
  },
  {
   "cell_type": "markdown",
   "id": "547b5a0b",
   "metadata": {},
   "source": [
    "### Let’s check who is the mostly active author of the group : "
   ]
  },
  {
   "cell_type": "code",
   "execution_count": 27,
   "id": "4fa8e5d4",
   "metadata": {},
   "outputs": [
    {
     "data": {
      "text/plain": [
       "Ritu Maam Crisp. Python     149\n",
       "mnazish19                    41\n",
       "Riya Crisp Python Bhopal     22\n",
       "Cirsp Student Python         12\n",
       "Name: name, dtype: int64"
      ]
     },
     "execution_count": 27,
     "metadata": {},
     "output_type": "execute_result"
    }
   ],
   "source": [
    "mostly_active = df['name'].value_counts()\n",
    "mostly_active"
   ]
  },
  {
   "cell_type": "code",
   "execution_count": 28,
   "id": "a3dbc639",
   "metadata": {},
   "outputs": [
    {
     "data": {
      "text/plain": [
       "<AxesSubplot:xlabel='name', ylabel='count'>"
      ]
     },
     "execution_count": 28,
     "metadata": {},
     "output_type": "execute_result"
    },
    {
     "data": {
      "image/png": "[encoded data removed]",
      "text/plain": [
       "<Figure size 432x288 with 1 Axes>"
      ]
     },
     "metadata": {},
     "output_type": "display_data"
    }
   ],
   "source": [
    "sns.countplot(df['name'])"
   ]
  },
  {
   "cell_type": "markdown",
   "id": "86838129",
   "metadata": {},
   "source": [
    "### Let’s check mostly active day in a week :"
   ]
  },
  {
   "cell_type": "code",
   "execution_count": 29,
   "id": "f9015ba0",
   "metadata": {},
   "outputs": [
    {
     "data": {
      "text/plain": [
       "Mon    50\n",
       "Thu    39\n",
       "Fri    37\n",
       "Tue    36\n",
       "Sat    25\n",
       "Sun    20\n",
       "Wed    17\n",
       "Name: day_sent, dtype: int64"
      ]
     },
     "execution_count": 29,
     "metadata": {},
     "output_type": "execute_result"
    }
   ],
   "source": [
    "active_day = df['day_sent'].value_counts()\n",
    "active_day"
   ]
  },
  {
   "cell_type": "code",
   "execution_count": 31,
   "id": "019aa448",
   "metadata": {},
   "outputs": [
    {
     "data": {
      "text/plain": [
       "<AxesSubplot:xlabel='day_sent', ylabel='count'>"
      ]
     },
     "execution_count": 31,
     "metadata": {},
     "output_type": "execute_result"
    },
    {
     "data": {
      "image/png": "[encoded data removed]",
      "text/plain": [
       "<Figure size 432x288 with 1 Axes>"
      ]
     },
     "metadata": {},
     "output_type": "display_data"
    }
   ],
   "source": [
    "sns.countplot(df['day_sent'])"
   ]
  },
  {
   "cell_type": "code",
   "execution_count": 33,
   "id": "f38ed07e",
   "metadata": {},
   "outputs": [
    {
     "data": {
      "text/html": [
       "<div>\n",
       "<style scoped>\n",
       "    .dataframe tbody tr th:only-of-type {\n",
       "        vertical-align: middle;\n",
       "    }\n",
       "\n",
       "    .dataframe tbody tr th {\n",
       "        vertical-align: top;\n",
       "    }\n",
       "\n",
       "    .dataframe thead th {\n",
       "        text-align: right;\n",
       "    }\n",
       "</style>\n",
       "<table border=\"1\" class=\"dataframe\">\n",
       "  <thead>\n",
       "    <tr style=\"text-align: right;\">\n",
       "      <th></th>\n",
       "      <th>Word's</th>\n",
       "    </tr>\n",
       "    <tr>\n",
       "      <th>name</th>\n",
       "      <th></th>\n",
       "    </tr>\n",
       "  </thead>\n",
       "  <tbody>\n",
       "    <tr>\n",
       "      <th>Ritu Maam Crisp. Python</th>\n",
       "      <td>1082</td>\n",
       "    </tr>\n",
       "    <tr>\n",
       "      <th>mnazish19</th>\n",
       "      <td>154</td>\n",
       "    </tr>\n",
       "    <tr>\n",
       "      <th>Riya Crisp Python Bhopal</th>\n",
       "      <td>119</td>\n",
       "    </tr>\n",
       "    <tr>\n",
       "      <th>Cirsp Student Python</th>\n",
       "      <td>46</td>\n",
       "    </tr>\n",
       "  </tbody>\n",
       "</table>\n",
       "</div>"
      ],
      "text/plain": [
       "                          Word's\n",
       "name                            \n",
       "Ritu Maam Crisp. Python     1082\n",
       "mnazish19                    154\n",
       "Riya Crisp Python Bhopal     119\n",
       "Cirsp Student Python          46"
      ]
     },
     "execution_count": 33,
     "metadata": {},
     "output_type": "execute_result"
    }
   ],
   "source": [
    "# Analysis of members who has used max. no. of words in his/her messages\n",
    "max_words = df[['name','Word\\'s']].groupby('name').sum()\n",
    "m_w = max_words.sort_values('Word\\'s',ascending=False)\n",
    "m_w"
   ]
  },
  {
   "cell_type": "markdown",
   "id": "f40d7531",
   "metadata": {},
   "source": [
    "### Let’s check author who has shared maximum no. of links in the group: "
   ]
  },
  {
   "cell_type": "code",
   "execution_count": 24,
   "id": "f9b15cef",
   "metadata": {},
   "outputs": [
    {
     "data": {
      "text/html": [
       "<div>\n",
       "<style scoped>\n",
       "    .dataframe tbody tr th:only-of-type {\n",
       "        vertical-align: middle;\n",
       "    }\n",
       "\n",
       "    .dataframe tbody tr th {\n",
       "        vertical-align: top;\n",
       "    }\n",
       "\n",
       "    .dataframe thead th {\n",
       "        text-align: right;\n",
       "    }\n",
       "</style>\n",
       "<table border=\"1\" class=\"dataframe\">\n",
       "  <thead>\n",
       "    <tr style=\"text-align: right;\">\n",
       "      <th></th>\n",
       "      <th>Url_Count</th>\n",
       "    </tr>\n",
       "    <tr>\n",
       "      <th>name</th>\n",
       "      <th></th>\n",
       "    </tr>\n",
       "  </thead>\n",
       "  <tbody>\n",
       "    <tr>\n",
       "      <th>Ritu Maam Crisp. Python</th>\n",
       "      <td>29</td>\n",
       "    </tr>\n",
       "    <tr>\n",
       "      <th>mnazish19</th>\n",
       "      <td>4</td>\n",
       "    </tr>\n",
       "    <tr>\n",
       "      <th>Cirsp Student Python</th>\n",
       "      <td>2</td>\n",
       "    </tr>\n",
       "    <tr>\n",
       "      <th>Riya Crisp Python Bhopal</th>\n",
       "      <td>0</td>\n",
       "    </tr>\n",
       "  </tbody>\n",
       "</table>\n",
       "</div>"
      ],
      "text/plain": [
       "                          Url_Count\n",
       "name                               \n",
       "Ritu Maam Crisp. Python          29\n",
       "mnazish19                         4\n",
       "Cirsp Student Python              2\n",
       "Riya Crisp Python Bhopal          0"
      ]
     },
     "execution_count": 24,
     "metadata": {},
     "output_type": "execute_result"
    }
   ],
   "source": [
    "### Member who has shared max numbers of link in Group \n",
    "max_number = df[['name','Url_Count']].groupby('name').sum()\n",
    "m_n = max_number.sort_values('Url_Count',ascending=False)\n",
    "m_n"
   ]
  },
  {
   "cell_type": "markdown",
   "id": "4fd51a7b",
   "metadata": {},
   "source": [
    "### Let’s check the time whenever the group was highly active : "
   ]
  },
  {
   "cell_type": "code",
   "execution_count": 36,
   "id": "a6a5beec",
   "metadata": {},
   "outputs": [
    {
     "data": {
      "text/plain": [
       "2022-01-31 16:23:00    4\n",
       "2022-01-12 19:00:00    4\n",
       "2022-12-01 19:00:00    4\n",
       "2021-12-24 10:34:00    3\n",
       "2022-01-03 10:16:00    3\n",
       "Name: datetime, dtype: int64"
      ]
     },
     "execution_count": 36,
     "metadata": {},
     "output_type": "execute_result"
    }
   ],
   "source": [
    "time = df['datetime'].value_counts().head(20)\n",
    "time.head()"
   ]
  },
  {
   "cell_type": "code",
   "execution_count": 37,
   "id": "544b636b",
   "metadata": {},
   "outputs": [
    {
     "data": {
      "text/plain": [
       "<AxesSubplot:xlabel='datetime', ylabel='count'>"
      ]
     },
     "execution_count": 37,
     "metadata": {},
     "output_type": "execute_result"
    },
    {
     "data": {
      "image/png": "[encoded data removed]",
      "text/plain": [
       "<Figure size 432x288 with 1 Axes>"
      ]
     },
     "metadata": {},
     "output_type": "display_data"
    }
   ],
   "source": [
    "sns.countplot(df['datetime'])"
   ]
  },
  {
   "cell_type": "markdown",
   "id": "7510ea21",
   "metadata": {},
   "source": [
    "### Let’s check the date on which our group was highly active"
   ]
  },
  {
   "cell_type": "code",
   "execution_count": 38,
   "id": "0c44a955",
   "metadata": {},
   "outputs": [
    {
     "data": {
      "text/plain": [
       "2021-12-16    17\n",
       "2022-01-02    13\n",
       "2022-02-01    13\n",
       "2022-01-31    10\n",
       "2021-12-24    10\n",
       "Name: date, dtype: int64"
      ]
     },
     "execution_count": 38,
     "metadata": {},
     "output_type": "execute_result"
    }
   ],
   "source": [
    "date=df['date'].value_counts()\n",
    "date.head()\n"
   ]
  },
  {
   "cell_type": "code",
   "execution_count": 39,
   "id": "ba56abdf",
   "metadata": {},
   "outputs": [
    {
     "data": {
      "text/plain": [
       "<AxesSubplot:xlabel='date', ylabel='count'>"
      ]
     },
     "execution_count": 39,
     "metadata": {},
     "output_type": "execute_result"
    },
    {
     "data": {
      "image/png": "[encoded data removed]",
      "text/plain": [
       "<Figure size 432x288 with 1 Axes>"
      ]
     },
     "metadata": {},
     "output_type": "display_data"
    }
   ],
   "source": [
    "sns.countplot(df['date'])"
   ]
  },
  {
   "cell_type": "markdown",
   "id": "5d571fd4",
   "metadata": {},
   "source": [
    "### Let’s check mostly active month :"
   ]
  },
  {
   "cell_type": "code",
   "execution_count": 40,
   "id": "fe44e5dd",
   "metadata": {},
   "outputs": [
    {
     "data": {
      "text/plain": [
       "Jan    64\n",
       "Feb    55\n",
       "Dec    49\n",
       "Jul    16\n",
       "Mar    11\n",
       "Oct     9\n",
       "May     7\n",
       "Apr     6\n",
       "Sep     4\n",
       "Nov     2\n",
       "Aug     1\n",
       "Name: month_sent, dtype: int64"
      ]
     },
     "execution_count": 40,
     "metadata": {},
     "output_type": "execute_result"
    }
   ],
   "source": [
    "active_month = df['month_sent'].value_counts()\n",
    "active_month"
   ]
  },
  {
   "cell_type": "code",
   "execution_count": 41,
   "id": "0cca4194",
   "metadata": {},
   "outputs": [
    {
     "data": {
      "text/plain": [
       "<AxesSubplot:xlabel='month_sent', ylabel='count'>"
      ]
     },
     "execution_count": 41,
     "metadata": {},
     "output_type": "execute_result"
    },
    {
     "data": {
      "image/png": "[encoded data removed]",
      "text/plain": [
       "<Figure size 432x288 with 1 Axes>"
      ]
     },
     "metadata": {},
     "output_type": "display_data"
    }
   ],
   "source": [
    "sns.countplot(df['month_sent'])"
   ]
  },
  {
   "cell_type": "code",
   "execution_count": null,
   "id": "41219e08",
   "metadata": {},
   "outputs": [],
   "source": []
  }
 ],
 "metadata": {
  "kernelspec": {
   "display_name": "Python 3 (ipykernel)",
   "language": "python",
   "name": "python3"
  },
  "language_info": {
   "codemirror_mode": {
    "name": "ipython",
    "version": 3
   },
   "file_extension": ".py",
   "mimetype": "text/x-python",
   "name": "python",
   "nbconvert_exporter": "python",
   "pygments_lexer": "ipython3",
   "version": "3.9.7"
  }
 },
 "nbformat": 4,
 "nbformat_minor": 5
}
